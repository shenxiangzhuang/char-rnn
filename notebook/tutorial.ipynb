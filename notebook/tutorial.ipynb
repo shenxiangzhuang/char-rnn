{
 "cells": [
  {
   "cell_type": "markdown",
   "id": "17926d88-089d-4c7d-b679-5bd501eb218a",
   "metadata": {},
   "source": [
    "# 从零开始的自然语言处理: 通过字符级RNN网络进行人名的语种判别\n",
    "\n",
    "[原始文章: NLP From Scratch: Classifying Names with a Character-Level RNN](https://pytorch.org/tutorials/intermediate/char_rnn_classification_tutorial.html#nlp-from-scratch-classifying-names-with-a-character-level-rnn)"
   ]
  },
  {
   "cell_type": "markdown",
   "id": "f7a66b08-0f71-4521-961c-e0cc323c0ed7",
   "metadata": {},
   "source": [
    "## 数据准备"
   ]
  },
  {
   "cell_type": "code",
   "execution_count": 1,
   "id": "42c34c4f-f62c-4904-9a93-47b7a2360580",
   "metadata": {},
   "outputs": [],
   "source": [
    "from io import open\n",
    "import glob\n",
    "import pathlib\n",
    "import os\n",
    "import unicodedata\n",
    "import string"
   ]
  },
  {
   "cell_type": "code",
   "execution_count": 2,
   "id": "b2131de9-873b-40b2-ab27-563e40a02c03",
   "metadata": {},
   "outputs": [],
   "source": [
    "from typing import List, Dict, Tuple, Any"
   ]
  },
  {
   "cell_type": "markdown",
   "id": "225caf01-9134-4e93-b781-13292fe907c0",
   "metadata": {},
   "source": [
    "### 编码转换工具"
   ]
  },
  {
   "cell_type": "code",
   "execution_count": 3,
   "id": "6d409b92-9c8f-4bef-a13d-549ee98b1337",
   "metadata": {},
   "outputs": [
    {
     "data": {
      "text/plain": [
       "[PosixPath('../dataset/names/Greek.txt'),\n",
       " PosixPath('../dataset/names/Arabic.txt'),\n",
       " PosixPath('../dataset/names/Irish.txt')]"
      ]
     },
     "execution_count": 3,
     "metadata": {},
     "output_type": "execute_result"
    }
   ],
   "source": [
    "def find_files(dir_path: str, pattern: str) -> List[pathlib.PosixPath]:\n",
    "    return list(pathlib.Path(dir_path).glob(pattern))\n",
    "\n",
    "find_files('../dataset/names', '*.txt')[:3]"
   ]
  },
  {
   "cell_type": "code",
   "execution_count": 4,
   "id": "91f506e7-355b-4798-a4c3-a63840884ccb",
   "metadata": {},
   "outputs": [
    {
     "data": {
      "text/plain": [
       "\"abcdefghijklmnopqrstuvwxyzABCDEFGHIJKLMNOPQRSTUVWXYZ.,;'\""
      ]
     },
     "execution_count": 4,
     "metadata": {},
     "output_type": "execute_result"
    }
   ],
   "source": [
    "all_letters = string.ascii_letters + \".,;'\"\n",
    "\n",
    "all_letters"
   ]
  },
  {
   "cell_type": "code",
   "execution_count": 5,
   "id": "a0549010-ee72-4671-ac44-97edc5a6047f",
   "metadata": {},
   "outputs": [
    {
     "data": {
      "text/plain": [
       "56"
      ]
     },
     "execution_count": 5,
     "metadata": {},
     "output_type": "execute_result"
    }
   ],
   "source": [
    "n_letters = len(all_letters)\n",
    "\n",
    "n_letters"
   ]
  },
  {
   "cell_type": "markdown",
   "id": "42cb4271-e76a-4e10-a04d-f728a439391c",
   "metadata": {},
   "source": [
    "下面是关于`NFD`和`Mn`的介绍，简单说就是将特殊字符进行转化和过滤：\n",
    "\n",
    "- `NFD`: Unicode is a standard that assigns a unique numerical value (code point) to every character used in writing systems worldwide. However, some characters can be represented in multiple ways, leading to potential issues in text processing and comparison. Unicode normalization is the process of transforming different representations of the same character into a standardized form.\n",
    "\n",
    "    The 'NFD' normalization form stands for \"Normalization Form D\" and is one of the four normalization forms defined in the Unicode standard. It decomposes characters into a base character and one or more combining characters. For example, it decomposes accented characters into a base character and a combining diacritical mark.\n",
    "\n",
    "- `Mn`: non-spacing mark"
   ]
  },
  {
   "cell_type": "code",
   "execution_count": 6,
   "id": "783ab7f7-6801-40ee-b473-7b3c9f15fb32",
   "metadata": {},
   "outputs": [
    {
     "data": {
      "text/plain": [
       "'Slusarski'"
      ]
     },
     "execution_count": 6,
     "metadata": {},
     "output_type": "execute_result"
    }
   ],
   "source": [
    "def unicode_to_ascii(s: str) -> str:\n",
    "    return ''.join(\n",
    "        c for c in unicodedata.normalize('NFD', s)\n",
    "        if unicodedata.category(c) != 'Mn'\n",
    "        and c in all_letters\n",
    "    )\n",
    "\n",
    "unicode_to_ascii('Ślusàrski')"
   ]
  },
  {
   "cell_type": "code",
   "execution_count": 7,
   "id": "48827f70-afd1-4b0a-8d92-bdec0c57819a",
   "metadata": {},
   "outputs": [
    {
     "data": {
      "text/plain": [
       "['Adamidis', 'Adamou', 'Agelakos']"
      ]
     },
     "execution_count": 7,
     "metadata": {},
     "output_type": "execute_result"
    }
   ],
   "source": [
    "def read_lines(file_path: pathlib.PosixPath) -> List[str]:\n",
    "    with open(file_path) as f:\n",
    "        lines = f.read().strip().split('\\n')\n",
    "        return [unicode_to_ascii(line) for line in lines]\n",
    "\n",
    "read_lines(pathlib.PosixPath('../dataset/names/Greek.txt'))[:3]"
   ]
  },
  {
   "cell_type": "markdown",
   "id": "446c734b-db63-4acc-9297-efa63bf2545e",
   "metadata": {},
   "source": [
    "### 数据读取"
   ]
  },
  {
   "cell_type": "code",
   "execution_count": 8,
   "id": "d3213f7c-83d1-4b8b-96bc-8e92b53ac819",
   "metadata": {},
   "outputs": [
    {
     "data": {
      "text/plain": [
       "18"
      ]
     },
     "execution_count": 8,
     "metadata": {},
     "output_type": "execute_result"
    }
   ],
   "source": [
    "def read_category_lines() -> Dict[str, List[str]]:\n",
    "    category_lines = {}\n",
    "    \n",
    "    for file_path in find_files('../dataset/names', '*.txt'):\n",
    "        category = file_path.stem\n",
    "        lines = read_lines(file_path)\n",
    "        category_lines[category] = lines\n",
    "    return category_lines\n",
    "\n",
    "category_lines = read_category_lines()\n",
    "all_categories = list(category_lines.keys())\n",
    "n_categories = len(all_categories)\n",
    "\n",
    "n_categories"
   ]
  },
  {
   "cell_type": "code",
   "execution_count": 9,
   "id": "1cc566d7-c147-458e-ab16-9be7fc0bd9f3",
   "metadata": {},
   "outputs": [
    {
     "data": {
      "text/plain": [
       "['Abandonato', 'Abatangelo', 'Abatantuono', 'Abate', 'Abategiovanni']"
      ]
     },
     "execution_count": 9,
     "metadata": {},
     "output_type": "execute_result"
    }
   ],
   "source": [
    "category_lines['Italian'][:5]"
   ]
  },
  {
   "cell_type": "markdown",
   "id": "bcf28ae1-ca95-4017-89c8-a274228c6c4f",
   "metadata": {},
   "source": [
    "## 将名字转化为张量"
   ]
  },
  {
   "cell_type": "code",
   "execution_count": 10,
   "id": "6b9185cf-c5e5-4605-a9bd-6e5e2458f8c7",
   "metadata": {},
   "outputs": [],
   "source": [
    "import torch"
   ]
  },
  {
   "cell_type": "code",
   "execution_count": 11,
   "id": "36a28b4e-16fa-48e5-ac16-f91498c56aae",
   "metadata": {},
   "outputs": [
    {
     "data": {
      "text/plain": [
       "(0, 25, 55, 56)"
      ]
     },
     "execution_count": 11,
     "metadata": {},
     "output_type": "execute_result"
    }
   ],
   "source": [
    "def letter_to_index(letter: str) -> int:\n",
    "    \"\"\"\n",
    "    将一个ASCII字符转换为对应的索引\n",
    "    \"\"\"\n",
    "    return all_letters.find(letter)\n",
    "\n",
    "\n",
    "letter_to_index('a'), letter_to_index('z'), letter_to_index(\"'\"), len(all_letters)"
   ]
  },
  {
   "cell_type": "code",
   "execution_count": 12,
   "id": "18c66f91-78e2-47f1-8237-5d7491eed4bd",
   "metadata": {},
   "outputs": [
    {
     "data": {
      "text/plain": [
       "(torch.Size([1, 56]),\n",
       " tensor([[1., 0., 0., 0., 0., 0., 0., 0., 0., 0., 0., 0., 0., 0., 0., 0., 0., 0.,\n",
       "          0., 0., 0., 0., 0., 0., 0., 0., 0., 0., 0., 0., 0., 0., 0., 0., 0., 0.,\n",
       "          0., 0., 0., 0., 0., 0., 0., 0., 0., 0., 0., 0., 0., 0., 0., 0., 0., 0.,\n",
       "          0., 0.]]))"
      ]
     },
     "execution_count": 12,
     "metadata": {},
     "output_type": "execute_result"
    }
   ],
   "source": [
    "def letter_to_tensor(letter: str) -> torch.Tensor:\n",
    "    \"\"\"\n",
    "    将一个ASCII字符转换为维度为1X56的张量\n",
    "    \"\"\"\n",
    "    tensor = torch.zeros(1, n_letters)\n",
    "    tensor[0][letter_to_index(letter)] = 1\n",
    "    return tensor\n",
    "\n",
    "\n",
    "letter_to_tensor('a').shape, letter_to_tensor('a')"
   ]
  },
  {
   "cell_type": "code",
   "execution_count": 13,
   "id": "3655c784-77ba-460b-8d4a-d78504ad5532",
   "metadata": {},
   "outputs": [
    {
     "data": {
      "text/plain": [
       "(torch.Size([5, 1, 56]),\n",
       " tensor([[[0., 0., 0., 0., 0., 0., 0., 0., 0., 0., 0., 0., 0., 0., 0., 0., 0.,\n",
       "           0., 0., 0., 0., 0., 0., 0., 0., 0., 0., 0., 0., 0., 0., 0., 0., 0.,\n",
       "           0., 1., 0., 0., 0., 0., 0., 0., 0., 0., 0., 0., 0., 0., 0., 0., 0.,\n",
       "           0., 0., 0., 0., 0.]],\n",
       " \n",
       "         [[0., 0., 0., 0., 0., 0., 0., 0., 0., 0., 0., 0., 0., 0., 1., 0., 0.,\n",
       "           0., 0., 0., 0., 0., 0., 0., 0., 0., 0., 0., 0., 0., 0., 0., 0., 0.,\n",
       "           0., 0., 0., 0., 0., 0., 0., 0., 0., 0., 0., 0., 0., 0., 0., 0., 0.,\n",
       "           0., 0., 0., 0., 0.]],\n",
       " \n",
       "         [[0., 0., 0., 0., 0., 0., 0., 0., 0., 0., 0., 0., 0., 1., 0., 0., 0.,\n",
       "           0., 0., 0., 0., 0., 0., 0., 0., 0., 0., 0., 0., 0., 0., 0., 0., 0.,\n",
       "           0., 0., 0., 0., 0., 0., 0., 0., 0., 0., 0., 0., 0., 0., 0., 0., 0.,\n",
       "           0., 0., 0., 0., 0.]],\n",
       " \n",
       "         [[0., 0., 0., 0., 1., 0., 0., 0., 0., 0., 0., 0., 0., 0., 0., 0., 0.,\n",
       "           0., 0., 0., 0., 0., 0., 0., 0., 0., 0., 0., 0., 0., 0., 0., 0., 0.,\n",
       "           0., 0., 0., 0., 0., 0., 0., 0., 0., 0., 0., 0., 0., 0., 0., 0., 0.,\n",
       "           0., 0., 0., 0., 0.]],\n",
       " \n",
       "         [[0., 0., 0., 0., 0., 0., 0., 0., 0., 0., 0., 0., 0., 0., 0., 0., 0.,\n",
       "           0., 1., 0., 0., 0., 0., 0., 0., 0., 0., 0., 0., 0., 0., 0., 0., 0.,\n",
       "           0., 0., 0., 0., 0., 0., 0., 0., 0., 0., 0., 0., 0., 0., 0., 0., 0.,\n",
       "           0., 0., 0., 0., 0.]]]))"
      ]
     },
     "execution_count": 13,
     "metadata": {},
     "output_type": "execute_result"
    }
   ],
   "source": [
    "def line_to_tensor(line: str) -> torch.Tensor:\n",
    "    tensor = torch.zeros(len(line), 1, n_letters)\n",
    "    for i, letter in enumerate(line):\n",
    "        tensor[i][0][letter_to_index(letter)] = 1\n",
    "    return tensor\n",
    "\n",
    "line_to_tensor('Jones').shape, line_to_tensor('Jones')"
   ]
  },
  {
   "cell_type": "markdown",
   "id": "33d786ff-61ab-493e-9c61-49156fa8476f",
   "metadata": {},
   "source": [
    "## 创建神经网络"
   ]
  },
  {
   "cell_type": "code",
   "execution_count": 14,
   "id": "53bff4b6-f423-4dad-b693-e8f4b494790d",
   "metadata": {},
   "outputs": [],
   "source": [
    "import torch.nn as nn"
   ]
  },
  {
   "cell_type": "markdown",
   "id": "3e268f8f-19d1-49df-9102-96a03c3ab03c",
   "metadata": {},
   "source": [
    "关于`nn.LogSoftmax`: \n",
    "\n",
    "$$\\text{LogSoftmax}(x_{i}) = \\log\\left(\\frac{\\exp(x_i) }{ \\sum_j \\exp(x_j)} \\right)$$\n",
    "\n",
    "假设随机生成一个2X3的矩阵, `input = torch.randn(2, 3)`: \n",
    "```python\n",
    "tensor([[-2.0327, -0.0492, -0.0281],\n",
    "        [-1.2225,  1.9487,  1.1813]])\n",
    "```\n",
    "之后手动计算其`LogSoftmax`:\n",
    "```python\n",
    "calc_np = np.zeros((2, 3))\n",
    "calc_np[0] = np.log(np.exp(input[0]) / np.exp(input[0]).sum())\n",
    "calc_np[1] = np.log(np.exp(input[1]) / np.exp(input[1]).sum())\n",
    "```\n",
    "最后和通过网络输出的结果对比，可以验证当前的计算是没问题的：\n",
    "```python\n",
    "calc_np = np.zeros((2, 3))\n",
    "calc_np[0] = np.log(np.exp(input[0]) / np.exp(input[0]).sum())\n",
    "calc_np[1] = np.log(np.exp(input[1]) / np.exp(input[1]).sum())\n",
    "np.isclose(calc_np, m(input))\n",
    "```\n",
    "输出：\n",
    "```python\n",
    "array([[ True,  True,  True],\n",
    "       [ True,  True,  True]])\n",
    "```"
   ]
  },
  {
   "cell_type": "code",
   "execution_count": 15,
   "id": "2c9cc49b-ad11-4199-9c3b-25b162de67a7",
   "metadata": {},
   "outputs": [],
   "source": [
    "class RNN(nn.Module):\n",
    "    def __init__(self, input_size: int, hidden_size: int, output_size: int):\n",
    "        super(RNN, self).__init__()\n",
    "\n",
    "        self.hidden_size = hidden_size\n",
    "\n",
    "        self.i2h = nn.Linear(input_size + hidden_size, hidden_size)\n",
    "        self.h2o = nn.Linear(hidden_size, output_size)\n",
    "        self.softmax = nn.LogSoftmax(dim=1)\n",
    "\n",
    "    def forward(self, input: torch.Tensor, hidden: torch.Tensor) -> Tuple[torch.Tensor, torch.Tensor]:\n",
    "        combined = torch.cat((input, hidden), 1)\n",
    "        hidden = self.i2h(combined)\n",
    "        output = self.h2o(hidden)\n",
    "        output = self.softmax(output)\n",
    "        return output, hidden\n",
    "\n",
    "    def init_hidden(self):\n",
    "        return torch.zeros(1, self.hidden_size)\n",
    "\n",
    "n_hidden = 128\n",
    "rnn = RNN(n_letters, n_hidden, n_categories)"
   ]
  },
  {
   "cell_type": "code",
   "execution_count": 16,
   "id": "70a1574d-5808-4b1e-9f8d-c83be666d6d7",
   "metadata": {},
   "outputs": [
    {
     "data": {
      "text/plain": [
       "<bound method Module.parameters of RNN(\n",
       "  (i2h): Linear(in_features=184, out_features=128, bias=True)\n",
       "  (h2o): Linear(in_features=128, out_features=18, bias=True)\n",
       "  (softmax): LogSoftmax(dim=1)\n",
       ")>"
      ]
     },
     "execution_count": 16,
     "metadata": {},
     "output_type": "execute_result"
    }
   ],
   "source": [
    "rnn.parameters"
   ]
  },
  {
   "cell_type": "code",
   "execution_count": 17,
   "id": "3fe780c1-a09b-44c0-a4eb-0a090da4fe73",
   "metadata": {},
   "outputs": [
    {
     "data": {
      "text/plain": [
       "(torch.Size([1, 56]), torch.Size([1, 128]), torch.Size([1, 184]))"
      ]
     },
     "execution_count": 17,
     "metadata": {},
     "output_type": "execute_result"
    }
   ],
   "source": [
    "input_a = letter_to_tensor('A')\n",
    "hidden_a = rnn.init_hidden()\n",
    "\n",
    "input_a.shape, hidden_a.shape, torch.cat((input_a, hidden_a), 1).shape"
   ]
  },
  {
   "cell_type": "code",
   "execution_count": 18,
   "id": "62ffd619-7e01-40e0-8602-088fcb1c2187",
   "metadata": {},
   "outputs": [
    {
     "data": {
      "text/plain": [
       "(torch.Size([1, 18]), torch.Size([1, 128]))"
      ]
     },
     "execution_count": 18,
     "metadata": {},
     "output_type": "execute_result"
    }
   ],
   "source": [
    "output_a, next_hidden_a = rnn(input_a, hidden_a)\n",
    "\n",
    "output_a.shape, next_hidden_a.shape"
   ]
  },
  {
   "cell_type": "code",
   "execution_count": 19,
   "id": "b67ceb3c-d371-49fb-af7c-daf098d09f21",
   "metadata": {},
   "outputs": [
    {
     "data": {
      "text/plain": [
       "tensor([[-2.7538, -2.8264, -2.9214, -2.9432, -2.8970, -2.9849, -2.9038, -2.9688,\n",
       "         -2.9125, -2.9320, -2.9109, -2.8255, -2.8406, -2.9359, -2.8170, -2.9579,\n",
       "         -2.8279, -2.9011]], grad_fn=<LogSoftmaxBackward0>)"
      ]
     },
     "execution_count": 19,
     "metadata": {},
     "output_type": "execute_result"
    }
   ],
   "source": [
    "output_a"
   ]
  },
  {
   "cell_type": "markdown",
   "id": "c618dfa0-f810-4b42-992d-374933b862f2",
   "metadata": {},
   "source": [
    "可以看到这里的output维度为1X18，在训练好的网络中，其代表的就是当前名字在18个语种分类中的似然(概率)，值越大表示更可能属于当前分类。"
   ]
  },
  {
   "cell_type": "markdown",
   "id": "31bffa03-f5e1-4f6c-b3da-4c1f9da2efe8",
   "metadata": {},
   "source": [
    "## 网络训练"
   ]
  },
  {
   "cell_type": "markdown",
   "id": "ac4b60a8-be9c-4238-8017-63ca8a45a131",
   "metadata": {},
   "source": [
    "### 训练前的准备"
   ]
  },
  {
   "cell_type": "code",
   "execution_count": 20,
   "id": "c0b08463-52f0-4081-a01d-f45f1aa37a5b",
   "metadata": {},
   "outputs": [
    {
     "data": {
      "text/plain": [
       "('Greek', 0)"
      ]
     },
     "execution_count": 20,
     "metadata": {},
     "output_type": "execute_result"
    }
   ],
   "source": [
    "def category_from_output(output: torch.Tensor) -> Tuple[str, int]:\n",
    "    \"\"\"\n",
    "    在18个语种分类的概率值中找到Top1的语种\n",
    "    \"\"\"\n",
    "    item, index = output.topk(1)\n",
    "    category_index = index[0].item()\n",
    "    return all_categories[category_index], category_index\n",
    "\n",
    "category_from_output(output_a)"
   ]
  },
  {
   "cell_type": "code",
   "execution_count": 21,
   "id": "56ccca82-7dc4-42cf-a779-bc3923be4c9f",
   "metadata": {},
   "outputs": [
    {
     "name": "stdout",
     "output_type": "stream",
     "text": [
      "category = English / line = Bull\n",
      "category = French / line = Montagne\n",
      "category = Dutch / line = Segher\n",
      "category = Dutch / line = Schneijders\n",
      "category = Polish / line = Bosko\n",
      "category = Arabic / line = Totah\n",
      "category = Spanish / line = Etxeberria\n",
      "category = Portuguese / line = Cabral\n",
      "category = Czech / line = Nekuza\n",
      "category = Irish / line = Register\n"
     ]
    }
   ],
   "source": [
    "import random\n",
    "\n",
    "\n",
    "def random_choice(items: List[Any]) -> Any:\n",
    "    return items[random.randint(0, len(items) - 1)]\n",
    "\n",
    "\n",
    "def random_train_example():\n",
    "    category = random_choice(all_categories)\n",
    "    line = random_choice(category_lines[category])\n",
    "    category_tensor = torch.tensor([all_categories.index(category)], dtype=torch.long)\n",
    "    line_tensor = line_to_tensor(line)\n",
    "    return category, line, category_tensor, line_tensor\n",
    "\n",
    "\n",
    "for _ in range(10):\n",
    "    category, line, category_tensor, line_tensor = random_train_example()\n",
    "    print(f\"category = {category} / line = {line}\")"
   ]
  },
  {
   "cell_type": "markdown",
   "id": "ea91a7bc-160b-4739-a86c-252021348e78",
   "metadata": {},
   "source": [
    "### 训练网络"
   ]
  },
  {
   "cell_type": "code",
   "execution_count": 22,
   "id": "456834e1-c711-4e04-8f98-15ee8a691c1a",
   "metadata": {},
   "outputs": [],
   "source": [
    "criterion = nn.NLLLoss()\n",
    "learning_rate = 0.005"
   ]
  },
  {
   "cell_type": "code",
   "execution_count": 23,
   "id": "92ae358f-0b27-4932-a6c6-c1de6c207300",
   "metadata": {},
   "outputs": [],
   "source": [
    "def train(category_tensor: torch.Tensor, \n",
    "          line_tensor: torch.Tensor,\n",
    "         ) -> Tuple[torch.Tensor, float]:\n",
    "    hidden = rnn.init_hidden()\n",
    "\n",
    "    rnn.zero_grad()\n",
    "\n",
    "    for i in range(line_tensor.size()[0]):\n",
    "        # 注意这里隐藏状态张量hidden一直在更新并不断进入下一个RNN\n",
    "        output, hidden = rnn(line_tensor[i], hidden)\n",
    "\n",
    "    loss = criterion(output, category_tensor)\n",
    "    # 反向传播\n",
    "    loss.backward()\n",
    "\n",
    "    # 用反向传播得到的梯度更新参数\n",
    "    for p in rnn.parameters():\n",
    "        p.data.add_(p.grad.data, alpha=-learning_rate)\n",
    "\n",
    "    return output, loss.item()\n"
   ]
  },
  {
   "cell_type": "code",
   "execution_count": 24,
   "id": "3b677ec3-50b1-44e5-a7f4-dc396f4c25e1",
   "metadata": {},
   "outputs": [
    {
     "name": "stdout",
     "output_type": "stream",
     "text": [
      "5000 5.0%% (0m 2.6994636058807373s) 2.8146 Sokolik / Russian ✗ Czech\n",
      "10000 10.0%% (0m 5.437705993652344s) 1.4051 Kaczka / Polish ✓\n",
      "15000 15.0%% (0m 8.185125827789307s) 0.8344 Katsura / Japanese ✓\n",
      "20000 20.0%% (0m 10.797953605651855s) 4.9504 Mas / Chinese ✗ German\n",
      "25000 25.0%% (0m 13.488433599472046s) 2.5210 Janz / Korean ✗ German\n",
      "30000 30.0%% (0m 16.18690538406372s) 0.5370 Nakanoi / Japanese ✓\n",
      "35000 35.0%% (0m 18.981915712356567s) 3.7321 Kwak / Polish ✗ Korean\n",
      "40000 40.0%% (0m 21.633789777755737s) 2.0830 Gage / Irish ✗ French\n",
      "45000 45.0%% (0m 24.226764678955078s) 2.3081 Wright / English ✗ Scottish\n",
      "50000 50.0%% (0m 27.031250715255737s) 1.8891 Overfield / Scottish ✗ English\n",
      "55000 55.00000000000001%% (0m 29.86498737335205s) 3.2540 Glatter / German ✗ Czech\n",
      "60000 60.0%% (0m 32.59141707420349s) 1.3609 Abreu / Portuguese ✓\n",
      "65000 65.0%% (0m 35.17938733100891s) 0.4978 Panayiotopoulos / Greek ✓\n",
      "70000 70.0%% (0m 37.81636881828308s) 2.1428 Furniss / Greek ✗ English\n",
      "75000 75.0%% (0m 40.5672869682312s) 2.6871 Salomon / Dutch ✗ Polish\n",
      "80000 80.0%% (0m 43.324079751968384s) 2.2407 Lobo / Portuguese ✗ Spanish\n",
      "85000 85.0%% (0m 46.114654779434204s) 4.4660 Gushiken / Russian ✗ Japanese\n",
      "90000 90.0%% (0m 49.23655676841736s) 2.5773 Weisener / German ✗ Czech\n",
      "95000 95.0%% (0m 52.17875790596008s) 2.5040 Sassa / Arabic ✗ Japanese\n",
      "100000 100.0%% (0m 55.00688910484314s) 0.0807 Ghanem / Arabic ✓\n"
     ]
    }
   ],
   "source": [
    "import time\n",
    "import math\n",
    "\n",
    "n_iters = 100000\n",
    "print_every = 5000\n",
    "plot_every = 1000\n",
    "\n",
    "\n",
    "\n",
    "# 记录Loss用于做图\n",
    "current_loss = 0\n",
    "all_losses = []\n",
    "\n",
    "\n",
    "def time_since(since: float) -> str:\n",
    "    now = time.time()\n",
    "    s = now - since\n",
    "    m = math.floor(s / 60)\n",
    "    s -= m * 60\n",
    "    return f'{m}m {s}s'\n",
    "\n",
    "\n",
    "start = time.time()\n",
    "\n",
    "for iter in range(1, n_iters + 1):\n",
    "    category, line, category_tensor, line_tensor = random_train_example()\n",
    "    output, loss = train(category_tensor, line_tensor)\n",
    "    current_loss += loss\n",
    "\n",
    "    # 打印数据: 当前迭代次数, loss, 真实名字，预测语种以及预测是否正确\n",
    "    if iter % print_every == 0:\n",
    "        guess, guess_i = category_from_output(output)\n",
    "        correct = '✓' if guess == category else f'✗ {category}'\n",
    "        print(f'{iter} {iter / n_iters * 100}%% ({time_since(start)}) {loss:.4f} {line} / {guess} {correct}')\n",
    "\n",
    "    # Add current loss avg to list of losses\n",
    "    if iter % plot_every == 0:\n",
    "        all_losses.append(current_loss / plot_every)\n",
    "        current_loss = 0"
   ]
  },
  {
   "cell_type": "code",
   "execution_count": 25,
   "id": "95f21906-3139-4c6d-9ea6-5f6cae36db69",
   "metadata": {},
   "outputs": [
    {
     "data": {
      "text/plain": [
       "[<matplotlib.lines.Line2D at 0x7f25d7352510>]"
      ]
     },
     "execution_count": 25,
     "metadata": {},
     "output_type": "execute_result"
    },
    {
     "data": {
      "image/png": "[encoded data removed]",
      "text/plain": [
       "<Figure size 640x480 with 1 Axes>"
      ]
     },
     "metadata": {},
     "output_type": "display_data"
    }
   ],
   "source": [
    "import matplotlib.pyplot as plt\n",
    "import matplotlib.ticker as ticker\n",
    "\n",
    "plt.figure()\n",
    "plt.plot(all_losses)"
   ]
  },
  {
   "cell_type": "code",
   "execution_count": 26,
   "id": "b7c886f1-a167-4763-aacf-4c8159801da5",
   "metadata": {},
   "outputs": [
    {
     "name": "stderr",
     "output_type": "stream",
     "text": [
      "/tmp/ipykernel_142670/2856423273.py:32: UserWarning: set_ticklabels() should only be used with a fixed number of ticks, i.e. after set_ticks() or using a FixedLocator.\n",
      "  ax.set_xticklabels([''] + all_categories, rotation=90)\n",
      "/tmp/ipykernel_142670/2856423273.py:33: UserWarning: set_ticklabels() should only be used with a fixed number of ticks, i.e. after set_ticks() or using a FixedLocator.\n",
      "  ax.set_yticklabels([''] + all_categories)\n"
     ]
    },
    {
     "data": {
      "image/png": "[encoded data removed]",
      "text/plain": [
       "<Figure size 1400x800 with 2 Axes>"
      ]
     },
     "metadata": {},
     "output_type": "display_data"
    }
   ],
   "source": [
    "confusion = torch.zeros(n_categories, n_categories)\n",
    "n_confusion = 10000\n",
    "\n",
    "\n",
    "def evaluate(line_tensor: torch.Tensor) -> torch.Tensor:\n",
    "    hidden = rnn.init_hidden()\n",
    "\n",
    "    for i in range(line_tensor.size()[0]):\n",
    "        output, hidden = rnn(line_tensor[i], hidden)\n",
    "\n",
    "    return output\n",
    "\n",
    "# 随机评估n_confusion个人名，统计各个语种分类的混淆矩阵\n",
    "for i in range(n_confusion):\n",
    "    category, line, category_tensor, line_tensor = random_train_example()\n",
    "    output = evaluate(line_tensor)\n",
    "    guess, guess_i = category_from_output(output)\n",
    "    category_i = all_categories.index(category)\n",
    "    confusion[category_i][guess_i] += 1\n",
    "\n",
    "# 归一化混淆矩阵\n",
    "for i in range(n_categories):\n",
    "    confusion[i] = confusion[i] / confusion[i].sum()\n",
    "\n",
    "# 做图\n",
    "fig = plt.figure(figsize=(14, 8))\n",
    "ax = fig.add_subplot(111)\n",
    "cax = ax.matshow(confusion.numpy())\n",
    "fig.colorbar(cax)\n",
    "\n",
    "\n",
    "ax.set_xticklabels([''] + all_categories, rotation=90)\n",
    "ax.set_yticklabels([''] + all_categories)\n",
    "\n",
    "\n",
    "ax.xaxis.set_major_locator(ticker.MultipleLocator(1))\n",
    "ax.yaxis.set_major_locator(ticker.MultipleLocator(1))\n",
    "\n",
    "plt.tight_layout()\n",
    "plt.show()"
   ]
  },
  {
   "cell_type": "code",
   "execution_count": null,
   "id": "84afd14c-0963-46f4-bb2c-24049fdf8c27",
   "metadata": {},
   "outputs": [],
   "source": []
  }
 ],
 "metadata": {
  "kernelspec": {
   "display_name": "Python 3 (ipykernel)",
   "language": "python",
   "name": "python3"
  },
  "language_info": {
   "codemirror_mode": {
    "name": "ipython",
    "version": 3
   },
   "file_extension": ".py",
   "mimetype": "text/x-python",
   "name": "python",
   "nbconvert_exporter": "python",
   "pygments_lexer": "ipython3",
   "version": "3.11.5"
  }
 },
 "nbformat": 4,
 "nbformat_minor": 5
}
